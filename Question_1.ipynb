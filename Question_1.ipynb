{
 "cells": [
  {
   "cell_type": "markdown",
   "id": "37612105",
   "metadata": {},
   "source": [
    "## DATA PROFILLING"
   ]
  },
  {
   "cell_type": "code",
   "execution_count": 2,
   "id": "e88bc077",
   "metadata": {},
   "outputs": [],
   "source": [
    "import tweepy"
   ]
  },
  {
   "cell_type": "markdown",
   "id": "f744dbf1",
   "metadata": {},
   "source": [
    "## TAKING ACCESS FROM TWITTER VIA API"
   ]
  },
  {
   "cell_type": "code",
   "execution_count": 6,
   "id": "a682f7c2",
   "metadata": {},
   "outputs": [
    {
     "name": "stdout",
     "output_type": "stream",
     "text": [
      "<tweepy.api.API object at 0x000002814529FD00>\n"
     ]
    }
   ],
   "source": [
    "access_token = \"1485555308500238340-N3InuUcm8klbT8GhIuMaCB1gGd3lip\"\n",
    "access_token_secret = \"cLhQFPVC07QWH6qiKh2HmPMuDIrXLdwNo771YKp4f0WFb\"\n",
    "api_key=\"XMOtgm8IA8TeJvof1g1AhtZOW\"\n",
    "api_key_secret=\"qBgUyjnWvVtUJ95Q4Q7mMeosHFKZ8udHBDUDSFGuOzs8bQdAQt\"\n",
    "auth=tweepy.OAuthHandler(consumer_key=api_key,consumer_secret=api_key_secret)\n",
    "auth.set_access_token(access_token,access_token_secret)\n",
    "api=tweepy.API(auth)\n",
    "print(api)"
   ]
  },
  {
   "cell_type": "code",
   "execution_count": null,
   "id": "2900d03f",
   "metadata": {},
   "outputs": [],
   "source": [
    "## INDIA World A WOEID (Where On Earth IDentifier) is a unique 32-bit reference identifier, originally defined by GeoPlanet and now assigned by Yahoo!, that identifies any feature on Earth. ... WOEIDs are used by a number of other projects, including Flickr, OpenStreetMap, Twitter, WOEID Search Engine and Nations24."
   ]
  },
  {
   "cell_type": "code",
   "execution_count": 7,
   "id": "7cc6f490",
   "metadata": {},
   "outputs": [],
   "source": [
    "india_woeid = 23424848"
   ]
  },
  {
   "cell_type": "markdown",
   "id": "aefa3230",
   "metadata": {},
   "source": [
    "## Top 10 TRENDING Tweets In INDIA"
   ]
  },
  {
   "cell_type": "code",
   "execution_count": 11,
   "id": "38b12e99",
   "metadata": {},
   "outputs": [
    {
     "name": "stdout",
     "output_type": "stream",
     "text": [
      "#NationalGirlChildDay\n",
      "72796\n",
      "#TheFashionDemoCrazySale\n",
      "None\n",
      "#ShamitaIsTheBoss\n",
      "42177\n",
      "#चार_धाम_चार_काम\n",
      "None\n",
      "#BetiBharatKi\n",
      "None\n",
      "Amazon More Retail Fraud\n",
      "None\n",
      "Shooting Star Design\n",
      "None\n",
      "PMO Ensure Sushant Justice\n",
      "78629\n",
      "SSR Injuries Scream 4 IPC 302\n",
      "51742\n",
      "brendan taylor\n",
      "None\n"
     ]
    }
   ],
   "source": [
    "trend_result = api.get_place_trends(india_woeid)\n",
    "for trend in trend_result[0][\"trends\"][:10]:\n",
    "    print(trend[\"name\"])\n",
    "    print(trend[\"tweet_volume\"])\n",
    "    "
   ]
  },
  {
   "cell_type": "code",
   "execution_count": null,
   "id": "ce71ac81",
   "metadata": {},
   "outputs": [],
   "source": []
  }
 ],
 "metadata": {
  "kernelspec": {
   "display_name": "Python 3 (ipykernel)",
   "language": "python",
   "name": "python3"
  },
  "language_info": {
   "codemirror_mode": {
    "name": "ipython",
    "version": 3
   },
   "file_extension": ".py",
   "mimetype": "text/x-python",
   "name": "python",
   "nbconvert_exporter": "python",
   "pygments_lexer": "ipython3",
   "version": "3.9.7"
  }
 },
 "nbformat": 4,
 "nbformat_minor": 5
}
